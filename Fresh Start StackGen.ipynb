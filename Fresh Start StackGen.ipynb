{
 "cells": [
  {
   "cell_type": "code",
   "execution_count": 1,
   "metadata": {},
   "outputs": [],
   "source": [
    "import pandas as pd\n",
    "import numpy as np\n",
    "import matplotlib.pyplot as plt\n",
    "from feature_engine import outlier_removers as outr\n",
    "%matplotlib inline\n",
    "# to visualise al the columns in the dataframe\n",
    "pd.pandas.set_option('display.max_columns', None)"
   ]
  },
  {
   "cell_type": "code",
   "execution_count": null,
   "metadata": {},
   "outputs": [],
   "source": [
    "dataset=pd.read_csv('train.csv')\n",
    "dataset = dataset[['OverallQual','GrLivArea','Neighborhood',\n",
    "                       'ExterQual','KitchenQual','BsmtQual','GarageCars','Street',\n",
    "                       'TotalBsmtSF','YearBuilt','GarageFinish','GarageArea','MSSubClass','FullBath',\n",
    "                       'TotRmsAbvGrd','FireplaceQu','YearRemodAdd','Foundation',\n",
    "                       'Fireplaces','BsmtFinSF1','LotArea','OpenPorchSF','2ndFlrSF','OverallCond',\n",
    "                       'BsmtExposure','MasVnrType','MSZoning','HalfBath','LotFrontage','SalePrice']]\n",
    "\n",
    "\n",
    "features_nan=[feature for feature in dataset.columns if dataset[feature].isnull().sum()>0 and dataset[feature].dtypes=='O']\n",
    "## Replace missing value with a new label\n",
    "def replace_cat_feature(dataset,features_nan):\n",
    "    data=dataset.copy()\n",
    "    data[features_nan]=data[features_nan].fillna('Missing')\n",
    "    return data\n",
    "dataset=replace_cat_feature(dataset,features_nan)\n",
    "\n",
    "## Now lets check for numerical variables the contains missing values\n",
    "numerical_with_nan=[feature for feature in dataset.columns if dataset[feature].isnull().sum()>0 and dataset[feature].dtypes!='O']\n",
    "## Replacing the numerical Missing Values\n",
    "for feature in numerical_with_nan:\n",
    "## We will replace by using median since there are outliers\n",
    "    median_value=dataset[feature].median()\n",
    "## create a new feature to capture nan values. If null replace with 1 else 0\n",
    "    dataset[feature+'nan']=np.where(dataset[feature].isnull(),1,0)\n",
    "    dataset[feature].fillna(median_value,inplace=True)\n",
    "\n",
    "    # set up the capper\n",
    "capper = outr.OutlierTrimmer(\n",
    "    distribution='skewed', tail='right', fold=1.5, \n",
    "    variables=[feature for feature in dataset.columns if dataset[feature].dtypes!='O'])\n",
    "\n",
    "# fit the capper\n",
    "capper.fit(dataset)\n",
    "\n",
    "# transform the data\n",
    "dataset= capper.transform(dataset)\n",
    "\n",
    "dataset = pd.get_dummies(dataset)\n",
    "import numpy as np\n",
    "num_features=['LotFrontage', 'LotArea', 'GrLivArea']\n",
    "\n",
    "for feature in num_features:\n",
    "    dataset[feature]=np.log(dataset[feature])\n",
    "\n",
    "feature_scale=[feature for feature in dataset.columns if feature not in ['Id','SalePrice']]\n",
    "\n",
    "from sklearn.preprocessing import MinMaxScaler\n",
    "scaler=MinMaxScaler()\n",
    "scaler.fit(dataset[feature_scale]) \n",
    "scaler.transform(dataset[feature_scale])\n",
    "\n",
    "# transform the train and test set, and add on the Id and SalePrice variables\n",
    "dataset = pd.concat([dataset[['SalePrice']].reset_index(drop=True),\n",
    "                    pd.DataFrame(scaler.transform(dataset[feature_scale]), columns=feature_scale)],\n",
    "                    axis=1)\n",
    "\n",
    "y = dataset['SalePrice']\n",
    "X = dataset.drop(axis=1,columns=['SalePrice'])\n",
    "#Convert from dataframe to numpy array\n",
    "from sklearn.model_selection import train_test_split\n",
    "X_train, X_test, y_train, y_test = train_test_split(X, y, test_size = 0.2, random_state = 0)\n",
    "from sklearn.linear_model import LinearRegression\n",
    "lr = LinearRegression()\n",
    "from sklearn.ensemble import RandomForestRegressor\n",
    "rf = RandomForestRegressor(n_estimators = 150, max_depth=None, random_state = 0)\n",
    "from sklearn.ensemble import GradientBoostingRegressor\n",
    "import xgboost as xgb #doesn't care about missing values\n",
    "regressor=xgb.XGBRegressor(n_estimators  = 750,learning_rate = 0.02,max_depth = 3)\n",
    "xgb = xgb.XGBRegressor(learning_rate=0.01,n_estimators=3460,\n",
    "                                     max_depth=3, min_child_weight=0,\n",
    "                                     gamma=0, subsample=0.7,\n",
    "                                     colsample_bytree=0.7,\n",
    "                                     objective='reg:linear', nthread=-1,\n",
    "                                     scale_pos_weight=1, seed=27,\n",
    "                                     reg_alpha=0.00006)\n",
    "from catboost import CatBoostRegressor\n",
    "cb = CatBoostRegressor(verbose = False)\n",
    "from lightgbm import LGBMRegressor\n",
    "lgbm = LGBMRegressor(objective='regression', \n",
    "                                       num_leaves=4,\n",
    "                                       learning_rate=0.01, \n",
    "                                       n_estimators=5000,\n",
    "                                       max_bin=200, \n",
    "                                       bagging_fraction=0.75,\n",
    "                                       bagging_freq=5, \n",
    "                                       bagging_seed=7,\n",
    "                                       feature_fraction=0.2,\n",
    "                                       feature_fraction_seed=7,\n",
    "                                       verbose=-1,\n",
    "                                       )\n",
    "from sklearn.linear_model import ElasticNetCV, LassoCV, RidgeCV\n",
    "from sklearn.ensemble import GradientBoostingRegressor\n",
    "from sklearn.svm import SVR\n",
    "from sklearn.pipeline import make_pipeline\n",
    "from sklearn.preprocessing import RobustScaler\n",
    "from sklearn.model_selection import KFold, cross_val_score\n",
    "from sklearn.metrics import mean_squared_error\n",
    "from mlxtend.regressor import StackingCVRegressor\n",
    "kfolds = KFold(n_splits=10, shuffle=True, random_state=42)\n",
    "\n",
    "alphas_alt = [14.5, 14.6, 14.7, 14.8, 14.9, 15, 15.1, 15.2, 15.3, 15.4, 15.5]\n",
    "alphas2 = [5e-05, 0.0001, 0.0002, 0.0003, 0.0004, 0.0005, 0.0006, 0.0007, 0.0008]\n",
    "e_alphas = [0.0001, 0.0002, 0.0003, 0.0004, 0.0005, 0.0006, 0.0007]\n",
    "e_l1ratio = [0.8, 0.85, 0.9, 0.95, 0.99, 1]\n",
    "\n",
    "ridge = make_pipeline(RobustScaler(), RidgeCV(alphas=alphas_alt, cv=kfolds))\n",
    "lasso = make_pipeline(RobustScaler(), LassoCV(max_iter=1e7, alphas=alphas2, random_state=42, cv=kfolds))\n",
    "elasticnet = make_pipeline(RobustScaler(), ElasticNetCV(max_iter=1e7, alphas=e_alphas, cv=kfolds, l1_ratio=e_l1ratio))                                \n",
    "svr = make_pipeline(RobustScaler(), SVR(C= 20, epsilon= 0.008, gamma=0.0003,))\n",
    "gbr = GradientBoostingRegressor(n_estimators=3000, learning_rate=0.05, max_depth=4, max_features='sqrt', min_samples_leaf=15, \n",
    "                                      min_samples_split=10, loss='huber', random_state =42)\n",
    "stack_gen = StackingCVRegressor(regressors=(gbr,xgb),\n",
    "                                meta_regressor=xgb,\n",
    "                                use_features_in_secondary=True)\n",
    "\n",
    "\n",
    "#regressor = xgb\n",
    "regressor.fit(np.array(X_train), np.array(y_train))\n",
    "\n",
    "y_pred = regressor.predict(np.array(X_test))\n",
    "np.set_printoptions(precision=2)\n",
    "\n",
    "from sklearn import metrics\n",
    "print('MAE:', metrics.mean_absolute_error(y_test, y_pred))\n",
    "print('MSE:', metrics.mean_squared_error(y_test, y_pred))\n",
    "print('RMSE:', np.sqrt(metrics.mean_squared_error(y_test, y_pred)))\n",
    "print('RMSLE(ROOT MEAN SQUEARED LOGARITHMIC ERROR):', np.sqrt(metrics.mean_squared_log_error(y_test, y_pred)))\n",
    "    "
   ]
  },
  {
   "cell_type": "code",
   "execution_count": 23,
   "metadata": {},
   "outputs": [],
   "source": [
    "dataset=pd.read_csv('train.csv')\n",
    "test = pd.read_csv('test.csv')\n",
    "datasetcopy = test.copy()\n",
    "dataset = dataset[['OverallQual','GrLivArea','Neighborhood',\n",
    "                       'ExterQual','KitchenQual','BsmtQual','GarageCars','Street',\n",
    "                       'TotalBsmtSF','YearBuilt','GarageFinish','GarageArea','MSSubClass','FullBath',\n",
    "                       'TotRmsAbvGrd','FireplaceQu','YearRemodAdd','Foundation',\n",
    "                       'Fireplaces','BsmtFinSF1','LotArea','OpenPorchSF','2ndFlrSF','OverallCond',\n",
    "                       'BsmtExposure','MasVnrType','MSZoning','HalfBath','LotFrontage','SalePrice']]\n",
    "\n",
    "test = test[['OverallQual','GrLivArea','Neighborhood',\n",
    "                       'ExterQual','KitchenQual','BsmtQual','GarageCars','Street',\n",
    "                       'TotalBsmtSF','YearBuilt','GarageFinish','GarageArea','MSSubClass','FullBath',\n",
    "                       'TotRmsAbvGrd','FireplaceQu','YearRemodAdd','Foundation',\n",
    "                       'Fireplaces','BsmtFinSF1','LotArea','OpenPorchSF','2ndFlrSF','OverallCond',\n",
    "                       'BsmtExposure','MasVnrType','MSZoning','HalfBath','LotFrontage']]\n",
    "\n",
    "\n",
    "features_nan=[feature for feature in dataset.columns if dataset[feature].isnull().sum()>0 and dataset[feature].dtypes=='O']\n",
    "features_nan_test=[feature for feature in test.columns if test[feature].isnull().sum()>0 and test[feature].dtypes=='O']\n",
    "## Replace missing value with a new label\n",
    "def replace_cat_feature(dataset,features_nan):\n",
    "    data=dataset.copy()\n",
    "    data[features_nan]=data[features_nan].fillna('Missing')\n",
    "    return data\n",
    "dataset=replace_cat_feature(dataset,features_nan)\n",
    "test=replace_cat_feature(test,features_nan_test)\n",
    "\n",
    "## Now lets check for numerical variables the contains missing values\n",
    "numerical_with_nan=[feature for feature in dataset.columns if dataset[feature].isnull().sum()>0 and \n",
    "                    dataset[feature].dtypes!='O']\n",
    "numerical_with_nan_test=[feature for feature in test.columns if test[feature].isnull().sum()>0 and \n",
    "                    test[feature].dtypes!='O']\n",
    "## Replacing the numerical Missing Values\n",
    "for feature in numerical_with_nan:\n",
    "## We will replace by using median since there are outliers\n",
    "    median_value=dataset[feature].median()\n",
    "## create a new feature to capture nan values. If null replace with 1 else 0\n",
    "    dataset[feature+'nan']=np.where(dataset[feature].isnull(),1,0)\n",
    "    dataset[feature].fillna(median_value,inplace=True)\n",
    "## Replacing the numerical Missing Values\n",
    "for feature in numerical_with_nan_test:\n",
    "## We will replace by using median since there are outliers\n",
    "    median_value=test[feature].median()\n",
    "## create a new feature to capture nan values. If null replace with 1 else 0\n",
    "    test[feature+'nan']=np.where(test[feature].isnull(),1,0)\n",
    "    test[feature].fillna(median_value,inplace=True)\n",
    "\n",
    "    "
   ]
  },
  {
   "cell_type": "code",
   "execution_count": 25,
   "metadata": {},
   "outputs": [
    {
     "data": {
      "text/plain": [
       "(1459, 34)"
      ]
     },
     "execution_count": 25,
     "metadata": {},
     "output_type": "execute_result"
    }
   ],
   "source": [
    "test.shape"
   ]
  },
  {
   "cell_type": "code",
   "execution_count": 26,
   "metadata": {},
   "outputs": [],
   "source": [
    "# set up the capper\n",
    "capper = outr.OutlierTrimmer(\n",
    "    distribution='skewed', tail='right', fold=1.5, \n",
    "    variables=[feature for feature in dataset.columns if dataset[feature].dtypes!='O'])\n",
    "\n",
    "# fit the capper\n",
    "capper.fit(dataset)\n",
    "\n",
    "# transform the data\n",
    "dataset= capper.transform(dataset)\n",
    "\n"
   ]
  },
  {
   "cell_type": "code",
   "execution_count": 31,
   "metadata": {},
   "outputs": [
    {
     "data": {
      "text/plain": [
       "(858, 97)"
      ]
     },
     "execution_count": 31,
     "metadata": {},
     "output_type": "execute_result"
    }
   ],
   "source": [
    "dataset.shape"
   ]
  },
  {
   "cell_type": "code",
   "execution_count": 32,
   "metadata": {},
   "outputs": [],
   "source": [
    "full_df=pd.concat([dataset,test],axis=0)\n",
    "full_df = pd.get_dummies(full_df)\n",
    "full_df =full_df.loc[:,~full_df.columns.duplicated()]\n",
    "\n",
    "dataset=full_df.iloc[:857,:]\n",
    "test=full_df.iloc[857:,:]\n",
    "\n"
   ]
  },
  {
   "cell_type": "code",
   "execution_count": 33,
   "metadata": {},
   "outputs": [
    {
     "data": {
      "text/plain": [
       "(1459, 97)"
      ]
     },
     "execution_count": 33,
     "metadata": {},
     "output_type": "execute_result"
    }
   ],
   "source": [
    "test.shape"
   ]
  },
  {
   "cell_type": "code",
   "execution_count": 34,
   "metadata": {},
   "outputs": [
    {
     "name": "stderr",
     "output_type": "stream",
     "text": [
      "C:\\ProgramData\\Anaconda3\\lib\\site-packages\\ipykernel_launcher.py:5: SettingWithCopyWarning: \n",
      "A value is trying to be set on a copy of a slice from a DataFrame.\n",
      "Try using .loc[row_indexer,col_indexer] = value instead\n",
      "\n",
      "See the caveats in the documentation: https://pandas.pydata.org/pandas-docs/stable/user_guide/indexing.html#returning-a-view-versus-a-copy\n",
      "  \"\"\"\n",
      "C:\\ProgramData\\Anaconda3\\lib\\site-packages\\ipykernel_launcher.py:6: SettingWithCopyWarning: \n",
      "A value is trying to be set on a copy of a slice from a DataFrame.\n",
      "Try using .loc[row_indexer,col_indexer] = value instead\n",
      "\n",
      "See the caveats in the documentation: https://pandas.pydata.org/pandas-docs/stable/user_guide/indexing.html#returning-a-view-versus-a-copy\n",
      "  \n",
      "C:\\ProgramData\\Anaconda3\\lib\\site-packages\\sklearn\\preprocessing\\_data.py:373: RuntimeWarning: All-NaN slice encountered\n",
      "  data_min = np.nanmin(X, axis=0)\n",
      "C:\\ProgramData\\Anaconda3\\lib\\site-packages\\sklearn\\preprocessing\\_data.py:374: RuntimeWarning: All-NaN slice encountered\n",
      "  data_max = np.nanmax(X, axis=0)\n"
     ]
    }
   ],
   "source": [
    "import numpy as np\n",
    "num_features=['LotFrontage', 'LotArea', 'GrLivArea']\n",
    "\n",
    "for feature in num_features:\n",
    "    dataset[feature]=np.log(dataset[feature])\n",
    "    test[feature]=np.log(test[feature])\n",
    "\n",
    "feature_scale=[feature for feature in dataset.columns if feature not in ['Id','SalePrice']]\n",
    "\n",
    "from sklearn.preprocessing import MinMaxScaler\n",
    "scaler=MinMaxScaler()\n",
    "scaler.fit(dataset[feature_scale]) \n",
    "scaler.transform(dataset[feature_scale])\n",
    "scaler.transform(test[feature_scale])\n",
    "\n",
    "# transform the train and test set, and add on the Id and SalePrice variables\n",
    "dataset = pd.concat([dataset[['SalePrice']].reset_index(drop=True),\n",
    "                    pd.DataFrame(scaler.transform(dataset[feature_scale]), columns=feature_scale)],\n",
    "                    axis=1)\n",
    "\n",
    "test = pd.concat([pd.DataFrame(scaler.transform(test[feature_scale]), columns=feature_scale)],\n",
    "                    axis=1)\n",
    "\n",
    "\n",
    "y = dataset['SalePrice']\n",
    "X = dataset.drop(axis=1,columns=['SalePrice'])\n",
    "\n",
    "\n",
    "import xgboost as xgb #doesn't care about missing values\n",
    "regressor=xgb.XGBRegressor(n_estimators  = 750,learning_rate = 0.02,max_depth = 3)\n",
    "\n",
    "regressor.fit(np.array(X), np.array(y))\n",
    "\n",
    "y_pred = regressor.predict(np.array(test))\n",
    "\n"
   ]
  },
  {
   "cell_type": "code",
   "execution_count": 35,
   "metadata": {},
   "outputs": [
    {
     "data": {
      "text/plain": [
       "1459"
      ]
     },
     "execution_count": 35,
     "metadata": {},
     "output_type": "execute_result"
    }
   ],
   "source": [
    "len(y_pred)"
   ]
  },
  {
   "cell_type": "code",
   "execution_count": 36,
   "metadata": {},
   "outputs": [],
   "source": [
    "datasetcopy['SalePrice'] = y_pred.tolist()\n",
    "datasetcopy = datasetcopy[['Id','SalePrice']]\n",
    "datasetcopy.to_csv('XGBoostSubmission.csv', index=False)"
   ]
  },
  {
   "cell_type": "code",
   "execution_count": null,
   "metadata": {},
   "outputs": [],
   "source": []
  }
 ],
 "metadata": {
  "kernelspec": {
   "display_name": "Python 3",
   "language": "python",
   "name": "python3"
  },
  "language_info": {
   "codemirror_mode": {
    "name": "ipython",
    "version": 3
   },
   "file_extension": ".py",
   "mimetype": "text/x-python",
   "name": "python",
   "nbconvert_exporter": "python",
   "pygments_lexer": "ipython3",
   "version": "3.7.4"
  }
 },
 "nbformat": 4,
 "nbformat_minor": 2
}
